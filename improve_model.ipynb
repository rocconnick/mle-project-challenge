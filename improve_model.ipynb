{
 "cells": [
  {
   "cell_type": "markdown",
   "metadata": {},
   "source": [
    "# Late Payments Model Improvements\n",
    "\n",
    "This notebook is adapted from the code in `predict-late-payers-basic-model.py`.\n",
    "\n",
    "The code here is admittedly messy, but a few markdown cells guide the reader into the different sections.\n",
    "\n",
    "\n",
    "## Executive summary of impovements:\n",
    "\n",
    "* A quick exploration of the features and labels was added.\n",
    "* Accuracy was not a good metric.  This dataset has extreme class imbalance, and the predicted late-payer scores rarely rise above the default 50% threshold.  Even precision and recall won't tell much.  To better evaluate performance, we look at ROC-AUC; this can be interpreted as the probability that two randomly sampled predicted late-payer scores are ranked appropriately.\n",
    "* Based on the metric above, the hyperparameters of the original random-forest model was optimized using a cross-validated grid search.  This improved ROC-AUC score on the test set, but the train and test set were still out of line, indicating poor generalization.\n",
    "* A gradient-boosted classifier was trained with default parameters since these models generally work well out of the box.  The ROC-AUC on the test set slightly outperformed the optimized random-forest model, but was much closer to that of the train set, suggesting this model generalizes better.\n"
   ]
  },
  {
   "cell_type": "code",
   "execution_count": 1,
   "metadata": {},
   "outputs": [],
   "source": [
    "# Import Libraries\n",
    "import numpy as np\n",
    "import pandas as pd\n",
    "from matplotlib import pyplot\n",
    "import seaborn\n",
    "from sklearn.ensemble import RandomForestClassifier\n",
    "from sklearn.model_selection import GridSearchCV\n",
    "\n",
    "# Preprocessing and Pipeline libraries\n",
    "from sklearn.compose import ColumnTransformer\n",
    "from sklearn.impute import SimpleImputer\n",
    "from sklearn.pipeline import Pipeline, make_pipeline\n",
    "from sklearn.preprocessing import OneHotEncoder, RobustScaler\n",
    "from sklearn.metrics import roc_curve\n",
    "import pickle"
   ]
  },
  {
   "cell_type": "code",
   "execution_count": 2,
   "metadata": {},
   "outputs": [
    {
     "name": "stdout",
     "output_type": "stream",
     "text": [
      "\n",
      "Loading training data...\n"
     ]
    }
   ],
   "source": [
    "print(\"\\nLoading training data...\")\n",
    "# load training data\n",
    "test_data = pd.read_csv(\"data/peerLoanTraining.csv\", engine='python', header=0)\n",
    "\n",
    "# Separate out X and y\n",
    "X_train = test_data.loc[:, test_data.columns != 'is_late']\n",
    "y_train = test_data['is_late']\n",
    "\n",
    "# load test data\n",
    "test_data = pd.read_csv(\"data/peerLoanTest.csv\", engine='python', header=0)\n",
    "\n",
    "# Separate out X and y\n",
    "X_test = test_data.loc[:, test_data.columns != 'is_late']\n",
    "y_test = test_data['is_late']\n",
    "\n",
    "# Preprocessing Steps\n",
    "numeric_features = ['loan_amnt', \n",
    "                    'int_rate', 'annual_inc', 'revol_util', \n",
    "                    'dti', 'delinq_2yrs'\n",
    "                   ]\n",
    "\n",
    "\n",
    "categorical_features = ['purpose','grade', 'emp_length', 'home_ownership']"
   ]
  },
  {
   "cell_type": "markdown",
   "metadata": {},
   "source": [
    "## Explore features\n",
    "\n",
    "Histograms, descriptive stats, null counts"
   ]
  },
  {
   "cell_type": "code",
   "execution_count": 3,
   "metadata": {},
   "outputs": [
    {
     "data": {
      "text/markdown": [
       "## loan_amnt"
      ],
      "text/plain": [
       "<IPython.core.display.Markdown object>"
      ]
     },
     "metadata": {},
     "output_type": "display_data"
    },
    {
     "data": {
      "text/plain": [
       "'Null counts: '"
      ]
     },
     "metadata": {},
     "output_type": "display_data"
    },
    {
     "data": {
      "text/plain": [
       "False    111068\n",
       "Name: loan_amnt, dtype: int64"
      ]
     },
     "metadata": {},
     "output_type": "display_data"
    },
    {
     "data": {
      "text/plain": [
       "count    111068.000000\n",
       "mean      15333.901304\n",
       "std        9903.827140\n",
       "min        1000.000000\n",
       "25%        8000.000000\n",
       "50%       12000.000000\n",
       "75%       20000.000000\n",
       "max       40000.000000\n",
       "Name: loan_amnt, dtype: float64"
      ]
     },
     "metadata": {},
     "output_type": "display_data"
    },
    {
     "data": {
      "image/png": "[encoded data removed]",
      "text/plain": [
       "<Figure size 432x288 with 1 Axes>"
      ]
     },
     "metadata": {},
     "output_type": "display_data"
    },
    {
     "data": {
      "text/markdown": [
       "## int_rate"
      ],
      "text/plain": [
       "<IPython.core.display.Markdown object>"
      ]
     },
     "metadata": {},
     "output_type": "display_data"
    },
    {
     "data": {
      "text/plain": [
       "'Null counts: '"
      ]
     },
     "metadata": {},
     "output_type": "display_data"
    },
    {
     "data": {
      "text/plain": [
       "False    111068\n",
       "Name: int_rate, dtype: int64"
      ]
     },
     "metadata": {},
     "output_type": "display_data"
    },
    {
     "data": {
      "text/plain": [
       "count    111068.000000\n",
       "mean          0.123530\n",
       "std           0.049712\n",
       "min           0.053100\n",
       "25%           0.080800\n",
       "50%           0.119800\n",
       "75%           0.150400\n",
       "max           0.309900\n",
       "Name: int_rate, dtype: float64"
      ]
     },
     "metadata": {},
     "output_type": "display_data"
    },
    {
     "data": {
      "image/png": "[encoded data removed]",
      "text/plain": [
       "<Figure size 432x288 with 1 Axes>"
      ]
     },
     "metadata": {},
     "output_type": "display_data"
    },
    {
     "data": {
      "text/markdown": [
       "## annual_inc"
      ],
      "text/plain": [
       "<IPython.core.display.Markdown object>"
      ]
     },
     "metadata": {},
     "output_type": "display_data"
    },
    {
     "data": {
      "text/plain": [
       "'Null counts: '"
      ]
     },
     "metadata": {},
     "output_type": "display_data"
    },
    {
     "data": {
      "text/plain": [
       "False    111068\n",
       "Name: annual_inc, dtype: int64"
      ]
     },
     "metadata": {},
     "output_type": "display_data"
    },
    {
     "data": {
      "text/plain": [
       "count    1.110680e+05\n",
       "mean     8.152713e+04\n",
       "std      8.914149e+04\n",
       "min      2.300000e+03\n",
       "25%      4.800000e+04\n",
       "50%      6.800000e+04\n",
       "75%      9.800000e+04\n",
       "max      9.930475e+06\n",
       "Name: annual_inc, dtype: float64"
      ]
     },
     "metadata": {},
     "output_type": "display_data"
    },
    {
     "data": {
      "image/png": "[encoded data removed]",
      "text/plain": [
       "<Figure size 432x288 with 1 Axes>"
      ]
     },
     "metadata": {},
     "output_type": "display_data"
    },
    {
     "data": {
      "text/markdown": [
       "## revol_util"
      ],
      "text/plain": [
       "<IPython.core.display.Markdown object>"
      ]
     },
     "metadata": {},
     "output_type": "display_data"
    },
    {
     "data": {
      "text/plain": [
       "'Null counts: '"
      ]
     },
     "metadata": {},
     "output_type": "display_data"
    },
    {
     "data": {
      "text/plain": [
       "False    110951\n",
       "True        117\n",
       "Name: revol_util, dtype: int64"
      ]
     },
     "metadata": {},
     "output_type": "display_data"
    },
    {
     "data": {
      "text/plain": [
       "count    110951.000000\n",
       "mean          0.432369\n",
       "std           0.247957\n",
       "min           0.000000\n",
       "25%           0.236000\n",
       "50%           0.413000\n",
       "75%           0.616000\n",
       "max           1.244000\n",
       "Name: revol_util, dtype: float64"
      ]
     },
     "metadata": {},
     "output_type": "display_data"
    },
    {
     "data": {
      "image/png": "[encoded data removed]",
      "text/plain": [
       "<Figure size 432x288 with 1 Axes>"
      ]
     },
     "metadata": {},
     "output_type": "display_data"
    },
    {
     "data": {
      "text/markdown": [
       "## dti"
      ],
      "text/plain": [
       "<IPython.core.display.Markdown object>"
      ]
     },
     "metadata": {},
     "output_type": "display_data"
    },
    {
     "data": {
      "text/plain": [
       "'Null counts: '"
      ]
     },
     "metadata": {},
     "output_type": "display_data"
    },
    {
     "data": {
      "text/plain": [
       "False    111068\n",
       "Name: dti, dtype: int64"
      ]
     },
     "metadata": {},
     "output_type": "display_data"
    },
    {
     "data": {
      "text/plain": [
       "count    111068.000000\n",
       "mean         17.334945\n",
       "std           8.750318\n",
       "min           0.000000\n",
       "25%          10.750000\n",
       "50%          16.700000\n",
       "75%          23.410000\n",
       "max          39.990000\n",
       "Name: dti, dtype: float64"
      ]
     },
     "metadata": {},
     "output_type": "display_data"
    },
    {
     "data": {
      "image/png": "[encoded data removed]",
      "text/plain": [
       "<Figure size 432x288 with 1 Axes>"
      ]
     },
     "metadata": {},
     "output_type": "display_data"
    },
    {
     "data": {
      "text/markdown": [
       "## delinq_2yrs"
      ],
      "text/plain": [
       "<IPython.core.display.Markdown object>"
      ]
     },
     "metadata": {},
     "output_type": "display_data"
    },
    {
     "data": {
      "text/plain": [
       "'Null counts: '"
      ]
     },
     "metadata": {},
     "output_type": "display_data"
    },
    {
     "data": {
      "text/plain": [
       "False    111068\n",
       "Name: delinq_2yrs, dtype: int64"
      ]
     },
     "metadata": {},
     "output_type": "display_data"
    },
    {
     "data": {
      "text/plain": [
       "count    111068.000000\n",
       "mean          0.236450\n",
       "std           0.750367\n",
       "min           0.000000\n",
       "25%           0.000000\n",
       "50%           0.000000\n",
       "75%           0.000000\n",
       "max          23.000000\n",
       "Name: delinq_2yrs, dtype: float64"
      ]
     },
     "metadata": {},
     "output_type": "display_data"
    },
    {
     "data": {
      "image/png": "[encoded data removed]",
      "text/plain": [
       "<Figure size 432x288 with 1 Axes>"
      ]
     },
     "metadata": {},
     "output_type": "display_data"
    },
    {
     "data": {
      "text/markdown": [
       "## purpose"
      ],
      "text/plain": [
       "<IPython.core.display.Markdown object>"
      ]
     },
     "metadata": {},
     "output_type": "display_data"
    },
    {
     "data": {
      "text/plain": [
       "'Null counts: '"
      ]
     },
     "metadata": {},
     "output_type": "display_data"
    },
    {
     "data": {
      "text/plain": [
       "False    111068\n",
       "Name: purpose, dtype: int64"
      ]
     },
     "metadata": {},
     "output_type": "display_data"
    },
    {
     "data": {
      "image/png": "[encoded data removed]",
      "text/plain": [
       "<Figure size 432x288 with 1 Axes>"
      ]
     },
     "metadata": {},
     "output_type": "display_data"
    },
    {
     "data": {
      "text/markdown": [
       "## grade"
      ],
      "text/plain": [
       "<IPython.core.display.Markdown object>"
      ]
     },
     "metadata": {},
     "output_type": "display_data"
    },
    {
     "data": {
      "text/plain": [
       "'Null counts: '"
      ]
     },
     "metadata": {},
     "output_type": "display_data"
    },
    {
     "data": {
      "text/plain": [
       "False    111068\n",
       "Name: grade, dtype: int64"
      ]
     },
     "metadata": {},
     "output_type": "display_data"
    },
    {
     "data": {
      "image/png": "[encoded data removed]",
      "text/plain": [
       "<Figure size 432x288 with 1 Axes>"
      ]
     },
     "metadata": {},
     "output_type": "display_data"
    },
    {
     "data": {
      "text/markdown": [
       "## emp_length"
      ],
      "text/plain": [
       "<IPython.core.display.Markdown object>"
      ]
     },
     "metadata": {},
     "output_type": "display_data"
    },
    {
     "data": {
      "text/plain": [
       "'Null counts: '"
      ]
     },
     "metadata": {},
     "output_type": "display_data"
    },
    {
     "data": {
      "text/plain": [
       "False    103321\n",
       "True       7747\n",
       "Name: emp_length, dtype: int64"
      ]
     },
     "metadata": {},
     "output_type": "display_data"
    },
    {
     "data": {
      "image/png": "[encoded data removed]",
      "text/plain": [
       "<Figure size 432x288 with 1 Axes>"
      ]
     },
     "metadata": {},
     "output_type": "display_data"
    },
    {
     "data": {
      "text/markdown": [
       "## home_ownership"
      ],
      "text/plain": [
       "<IPython.core.display.Markdown object>"
      ]
     },
     "metadata": {},
     "output_type": "display_data"
    },
    {
     "data": {
      "text/plain": [
       "'Null counts: '"
      ]
     },
     "metadata": {},
     "output_type": "display_data"
    },
    {
     "data": {
      "text/plain": [
       "False    111068\n",
       "Name: home_ownership, dtype: int64"
      ]
     },
     "metadata": {},
     "output_type": "display_data"
    },
    {
     "data": {
      "image/png": "[encoded data removed]",
      "text/plain": [
       "<Figure size 432x288 with 1 Axes>"
      ]
     },
     "metadata": {},
     "output_type": "display_data"
    },
    {
     "data": {
      "image/png": "[encoded data removed]",
      "text/plain": [
       "<Figure size 432x288 with 1 Axes>"
      ]
     },
     "metadata": {
      "needs_background": "light"
     },
     "output_type": "display_data"
    },
    {
     "data": {
      "image/png": "[encoded data removed]",
      "text/plain": [
       "<Figure size 432x288 with 1 Axes>"
      ]
     },
     "metadata": {
      "needs_background": "light"
     },
     "output_type": "display_data"
    },
    {
     "data": {
      "image/png": "[encoded data removed]",
      "text/plain": [
       "<Figure size 432x288 with 1 Axes>"
      ]
     },
     "metadata": {
      "needs_background": "light"
     },
     "output_type": "display_data"
    },
    {
     "data": {
      "image/png": "[encoded data removed]",
      "text/plain": [
       "<Figure size 432x288 with 1 Axes>"
      ]
     },
     "metadata": {
      "needs_background": "light"
     },
     "output_type": "display_data"
    },
    {
     "data": {
      "image/png": "[encoded data removed]",
      "text/plain": [
       "<Figure size 432x288 with 1 Axes>"
      ]
     },
     "metadata": {
      "needs_background": "light"
     },
     "output_type": "display_data"
    },
    {
     "data": {
      "image/png": "[encoded data removed]",
      "text/plain": [
       "<Figure size 432x288 with 1 Axes>"
      ]
     },
     "metadata": {
      "needs_background": "light"
     },
     "output_type": "display_data"
    },
    {
     "data": {
      "image/png": "[encoded data removed]",
      "text/plain": [
       "<Figure size 432x288 with 1 Axes>"
      ]
     },
     "metadata": {
      "needs_background": "light"
     },
     "output_type": "display_data"
    },
    {
     "data": {
      "image/png": "[encoded data removed]",
      "text/plain": [
       "<Figure size 432x288 with 1 Axes>"
      ]
     },
     "metadata": {
      "needs_background": "light"
     },
     "output_type": "display_data"
    },
    {
     "data": {
      "image/png": "[encoded data removed]",
      "text/plain": [
       "<Figure size 432x288 with 1 Axes>"
      ]
     },
     "metadata": {
      "needs_background": "light"
     },
     "output_type": "display_data"
    },
    {
     "data": {
      "image/png": "[encoded data removed]",
      "text/plain": [
       "<Figure size 432x288 with 1 Axes>"
      ]
     },
     "metadata": {
      "needs_background": "light"
     },
     "output_type": "display_data"
    }
   ],
   "source": [
    "import seaborn\n",
    "from IPython.core import display\n",
    "\n",
    "for feature in numeric_features:\n",
    "    \n",
    "    display.display(display.Markdown(f\"## {feature}\"))\n",
    "    display.display(\"Null counts: \")\n",
    "    display.display(X_train[feature].isnull().value_counts())\n",
    "    display.display(X_train[feature].describe())\n",
    "    fig = pyplot.figure()\n",
    "    seaborn.distplot(X_train[feature].dropna(), kde=False);\n",
    "    pyplot.title(feature)\n",
    "    display.display(fig)\n",
    "    \n",
    "for feature in categorical_features:\n",
    "    display.display(display.Markdown(f\"## {feature}\"))\n",
    "    display.display(\"Null counts: \")\n",
    "    display.display(X_train[feature].isnull().value_counts())\n",
    "    fig = pyplot.figure()\n",
    "    seaborn.countplot(X_train[feature].dropna())\n",
    "    pyplot.title(feature)\n",
    "    display.display(fig)\n"
   ]
  },
  {
   "cell_type": "markdown",
   "metadata": {},
   "source": [
    "## Class imbalance \n",
    "\n",
    "Take a look at the class label frequency, raw and normalized."
   ]
  },
  {
   "cell_type": "code",
   "execution_count": 4,
   "metadata": {},
   "outputs": [
    {
     "data": {
      "text/html": [
       "<div>\n",
       "<style scoped>\n",
       "    .dataframe tbody tr th:only-of-type {\n",
       "        vertical-align: middle;\n",
       "    }\n",
       "\n",
       "    .dataframe tbody tr th {\n",
       "        vertical-align: top;\n",
       "    }\n",
       "\n",
       "    .dataframe thead th {\n",
       "        text-align: right;\n",
       "    }\n",
       "</style>\n",
       "<table border=\"1\" class=\"dataframe\">\n",
       "  <thead>\n",
       "    <tr style=\"text-align: right;\">\n",
       "      <th></th>\n",
       "      <th>Raw Count - Train</th>\n",
       "      <th>Raw Count - Test</th>\n",
       "      <th>Normalized Count - Train</th>\n",
       "      <th>Normalized Count - Test</th>\n",
       "    </tr>\n",
       "  </thead>\n",
       "  <tbody>\n",
       "    <tr>\n",
       "      <th>0</th>\n",
       "      <td>108608</td>\n",
       "      <td>6748</td>\n",
       "      <td>0.977851</td>\n",
       "      <td>0.986117</td>\n",
       "    </tr>\n",
       "    <tr>\n",
       "      <th>1</th>\n",
       "      <td>2460</td>\n",
       "      <td>95</td>\n",
       "      <td>0.022149</td>\n",
       "      <td>0.013883</td>\n",
       "    </tr>\n",
       "  </tbody>\n",
       "</table>\n",
       "</div>"
      ],
      "text/plain": [
       "   Raw Count - Train  Raw Count - Test  Normalized Count - Train  \\\n",
       "0             108608              6748                  0.977851   \n",
       "1               2460                95                  0.022149   \n",
       "\n",
       "   Normalized Count - Test  \n",
       "0                 0.986117  \n",
       "1                 0.013883  "
      ]
     },
     "metadata": {},
     "output_type": "display_data"
    }
   ],
   "source": [
    "display.display(pd.DataFrame({\"Raw Count - Train\": y_train.value_counts(),\n",
    "                              \"Raw Count - Test\": y_test.value_counts(),\n",
    "                              \"Normalized Count - Train\": y_train.value_counts(normalize=True),\n",
    "                              \"Normalized Count - Test\": y_test.value_counts(normalize=True),\n",
    "                             }))\n"
   ]
  },
  {
   "cell_type": "markdown",
   "metadata": {},
   "source": [
    "## Train/test/output procedure\n",
    "Define this as a function so we can repeat for different models\n",
    "\n",
    "There are some additional evaluation metrics added to the information printed to the screen"
   ]
  },
  {
   "cell_type": "code",
   "execution_count": 5,
   "metadata": {},
   "outputs": [],
   "source": [
    "def fit_save_eval(model, name):\n",
    "    print(\"\\nTraining model ...\")\n",
    "    model.fit(X_train, y_train)\n",
    "\n",
    "    # Save the trained model as a pickle file\n",
    "    print(\"\\nSaving model ...\")\n",
    "    model_output_path = f'models/{name}.pkl'\n",
    "    file = open(model_output_path, 'wb')\n",
    "    pickle.dump(model, file)\n",
    "    file.close()\n",
    "\n",
    "    # load the pickled model\n",
    "    print(\"\\nLoading saved model to make example predictions...\")\n",
    "    pickledModel = pickle.load(open(model_output_path, 'rb'))\n",
    "\n",
    "    # Make a prediction for a likely on time payer\n",
    "    payOnTimePrediction = {\n",
    "        'loan_amnt': [100],\n",
    "        'int_rate': [0.02039],\n",
    "        'purpose': ['credit_card'],\n",
    "        'grade': ['A'],\n",
    "        'annual_inc': [80000.00],\n",
    "        'revol_util': [0.05],\n",
    "        'emp_length': ['10+ years'],\n",
    "        'dti': [1.46],\n",
    "        'delinq_2yrs': [0],\n",
    "        'home_ownership': ['RENT']\n",
    "        }\n",
    "    payOnTimePredictionDf = pd.DataFrame.from_dict(payOnTimePrediction)\n",
    "\n",
    "    print(\"\\nPredicting class probabilities for likely on-time payer:\")\n",
    "    print(pickledModel.predict_proba(payOnTimePredictionDf))\n",
    "\n",
    "    # Prediction for a likely late payer\n",
    "    payLatePrediction = {\n",
    "        'loan_amnt': [10000],\n",
    "        'int_rate': [0.6],\n",
    "        'purpose': ['credit_card'],\n",
    "        'grade': ['D'],\n",
    "        'annual_inc': [20000.00],\n",
    "        'revol_util': [0.85],\n",
    "        'emp_length': ['1 year'],\n",
    "        'dti': [42.00],\n",
    "        'delinq_2yrs': [4],\n",
    "        'home_ownership': ['RENT']\n",
    "        }\n",
    "    payLatePredictionDf = pd.DataFrame.from_dict(payLatePrediction)\n",
    "\n",
    "    print(\"\\nPredicting class probabilities for a likely late payer:\")\n",
    "    print(pickledModel.predict_proba(payLatePredictionDf))\n",
    "\n",
    "    # Predict class probabilities for a set of records using the test set\n",
    "    print(\"\\nPredicting class probabilities for the test data set:\")\n",
    "    print(pickledModel.predict_proba(X_test))\n",
    "\n",
    "    from sklearn.metrics import accuracy_score, classification_report, roc_auc_score\n",
    "    print(\"Accuracy:\\n%s\" % accuracy_score(y_test, pickledModel.predict(X_test)))\n",
    "    print(\"Classification Report: \\n%s\" %\n",
    "          classification_report(y_test, pickledModel.predict(X_test)))\n",
    "    print(\"AUC: \\n%s\" %\n",
    "          roc_auc_score(y_test, pickledModel.predict_proba(X_test)[:, 1]))\n",
    "    print(\"Train Accuracy:\\n%s\" % accuracy_score(y_train, pickledModel.predict(X_train)))\n",
    "    print(\"Train Classification Report: \\n%s\" %\n",
    "          classification_report(y_train, pickledModel.predict(X_train)))\n",
    "    print(\"Train AUC: \\n%s\" %\n",
    "          roc_auc_score(y_train, pickledModel.predict_proba(X_train)[:, 1]))\n"
   ]
  },
  {
   "cell_type": "markdown",
   "metadata": {},
   "source": [
    "## Train original model\n",
    "\n",
    "Train the same random-forest model pipeline that was used in `predict-late-payers-basic-model.py`."
   ]
  },
  {
   "cell_type": "code",
   "execution_count": 6,
   "metadata": {},
   "outputs": [
    {
     "name": "stdout",
     "output_type": "stream",
     "text": [
      "\n",
      "Training model ...\n"
     ]
    },
    {
     "name": "stderr",
     "output_type": "stream",
     "text": [
      "/anaconda3/envs/loanModel/lib/python3.7/site-packages/sklearn/ensemble/forest.py:246: FutureWarning: The default value of n_estimators will change from 10 in version 0.20 to 100 in 0.22.\n",
      "  \"10 in version 0.20 to 100 in 0.22.\", FutureWarning)\n"
     ]
    },
    {
     "name": "stdout",
     "output_type": "stream",
     "text": [
      "\n",
      "Saving model ...\n",
      "\n",
      "Loading saved model to make example predictions...\n",
      "\n",
      "Predicting class probabilities for likely on-time payer:\n",
      "[[1. 0.]]\n",
      "\n",
      "Predicting class probabilities for a likely late payer:\n",
      "[[0.7 0.3]]\n",
      "\n",
      "Predicting class probabilities for the test data set:\n",
      "[[1. 0.]\n",
      " [1. 0.]\n",
      " [1. 0.]\n",
      " ...\n",
      " [1. 0.]\n",
      " [1. 0.]\n",
      " [1. 0.]]\n",
      "Accuracy:\n",
      "0.9861172000584539\n",
      "Classification Report: \n",
      "              precision    recall  f1-score   support\n",
      "\n",
      "           0       0.99      1.00      0.99      6748\n",
      "           1       0.00      0.00      0.00        95\n",
      "\n",
      "   micro avg       0.99      0.99      0.99      6843\n",
      "   macro avg       0.49      0.50      0.50      6843\n",
      "weighted avg       0.97      0.99      0.98      6843\n",
      "\n",
      "AUC: \n",
      "0.6196307677908464\n"
     ]
    },
    {
     "name": "stderr",
     "output_type": "stream",
     "text": [
      "/anaconda3/envs/loanModel/lib/python3.7/site-packages/sklearn/metrics/classification.py:1143: UndefinedMetricWarning: Precision and F-score are ill-defined and being set to 0.0 in labels with no predicted samples.\n",
      "  'precision', 'predicted', average, warn_for)\n"
     ]
    },
    {
     "name": "stdout",
     "output_type": "stream",
     "text": [
      "Train Accuracy:\n",
      "0.9945528865199698\n",
      "Train Classification Report: \n",
      "              precision    recall  f1-score   support\n",
      "\n",
      "           0       0.99      1.00      1.00    108608\n",
      "           1       1.00      0.75      0.86      2460\n",
      "\n",
      "   micro avg       0.99      0.99      0.99    111068\n",
      "   macro avg       1.00      0.88      0.93    111068\n",
      "weighted avg       0.99      0.99      0.99    111068\n",
      "\n",
      "Train AUC: \n",
      "0.999951187548208\n"
     ]
    }
   ],
   "source": [
    "numeric_transformer = Pipeline(steps=[\n",
    "    ('imputer', SimpleImputer(strategy='median')),\n",
    "    ('scaler', None)\n",
    "    ])\n",
    "categorical_transformer = Pipeline(steps=[\n",
    "    ('imputer', SimpleImputer(strategy='constant', fill_value='missing')),\n",
    "    ('onehot', OneHotEncoder(handle_unknown='ignore'))\n",
    "    ])\n",
    "\n",
    "preprocess = ColumnTransformer(\n",
    "    transformers=[\n",
    "        ('num', numeric_transformer, numeric_features),\n",
    "        ('cat', categorical_transformer, categorical_features)\n",
    "        ]\n",
    "    )\n",
    "\n",
    "# Combine preprocessing with classifier\n",
    "latePaymentsModel = Pipeline(\n",
    "    steps=[(\"preprocess\", preprocess),\n",
    "           (\"classifier\", RandomForestClassifier(random_state=42))])\n",
    "\n",
    "fit_save_eval(latePaymentsModel, \"latePaymentsModelOriginal\")\n"
   ]
  },
  {
   "cell_type": "markdown",
   "metadata": {},
   "source": [
    "## Optimize original model\n",
    "\n",
    "Use a cross-validated grid search to optimize the original model over a reasonable set of parameters."
   ]
  },
  {
   "cell_type": "code",
   "execution_count": 7,
   "metadata": {},
   "outputs": [
    {
     "name": "stdout",
     "output_type": "stream",
     "text": [
      "\n",
      "Training model ...\n",
      "\n",
      "Saving model ...\n",
      "\n",
      "Loading saved model to make example predictions...\n",
      "\n",
      "Predicting class probabilities for likely on-time payer:\n",
      "[[0.99615619 0.00384381]]\n",
      "\n",
      "Predicting class probabilities for a likely late payer:\n",
      "[[0.8617744 0.1382256]]\n",
      "\n",
      "Predicting class probabilities for the test data set:\n",
      "[[0.97755935 0.02244065]\n",
      " [0.99561834 0.00438166]\n",
      " [0.99302074 0.00697926]\n",
      " ...\n",
      " [0.9716677  0.0283323 ]\n",
      " [0.98443126 0.01556874]\n",
      " [0.96516159 0.03483841]]\n",
      "Accuracy:\n",
      "0.9861172000584539\n"
     ]
    },
    {
     "name": "stderr",
     "output_type": "stream",
     "text": [
      "/anaconda3/envs/loanModel/lib/python3.7/site-packages/sklearn/metrics/classification.py:1143: UndefinedMetricWarning: Precision and F-score are ill-defined and being set to 0.0 in labels with no predicted samples.\n",
      "  'precision', 'predicted', average, warn_for)\n"
     ]
    },
    {
     "name": "stdout",
     "output_type": "stream",
     "text": [
      "Classification Report: \n",
      "              precision    recall  f1-score   support\n",
      "\n",
      "           0       0.99      1.00      0.99      6748\n",
      "           1       0.00      0.00      0.00        95\n",
      "\n",
      "   micro avg       0.99      0.99      0.99      6843\n",
      "   macro avg       0.49      0.50      0.50      6843\n",
      "weighted avg       0.97      0.99      0.98      6843\n",
      "\n",
      "AUC: \n",
      "0.7358952360153495\n",
      "Train Accuracy:\n",
      "0.9778514063456621\n"
     ]
    },
    {
     "name": "stderr",
     "output_type": "stream",
     "text": [
      "/anaconda3/envs/loanModel/lib/python3.7/site-packages/sklearn/metrics/classification.py:1143: UndefinedMetricWarning: Precision and F-score are ill-defined and being set to 0.0 in labels with no predicted samples.\n",
      "  'precision', 'predicted', average, warn_for)\n"
     ]
    },
    {
     "name": "stdout",
     "output_type": "stream",
     "text": [
      "Train Classification Report: \n",
      "              precision    recall  f1-score   support\n",
      "\n",
      "           0       0.98      1.00      0.99    108608\n",
      "           1       0.00      0.00      0.00      2460\n",
      "\n",
      "   micro avg       0.98      0.98      0.98    111068\n",
      "   macro avg       0.49      0.50      0.49    111068\n",
      "weighted avg       0.96      0.98      0.97    111068\n",
      "\n",
      "Train AUC: \n",
      "0.8520278754413575\n",
      "{'classifier__class_weight': None, 'classifier__max_depth': 10, 'classifier__n_estimators': 30, 'preprocess__num__scaler': None}\n"
     ]
    }
   ],
   "source": [
    "param_grid = {\"classifier__n_estimators\": [10, 20, 30],\n",
    "              \"classifier__max_depth\": [3, 10, 20],\n",
    "              \"classifier__class_weight\": [\"balanced\", None],\n",
    "              \"preprocess__num__scaler\": [RobustScaler(), None]\n",
    "              }\n",
    "latePaymentsModelGrid = GridSearchCV(latePaymentsModel,\n",
    "                                 param_grid=param_grid,\n",
    "                                 scoring='roc_auc',\n",
    "                                 cv=5,\n",
    "                                 n_jobs=-1)\n",
    "\n",
    "fit_save_eval(latePaymentsModelGrid, \"latePaymentsModelGrid\")\n",
    "\n",
    "print(latePaymentsModelGrid.best_params_)"
   ]
  },
  {
   "cell_type": "markdown",
   "metadata": {},
   "source": [
    "## Train a gradient-boosted model\n",
    "\n",
    "Try a gradient boosted model, because they generally work well out of the box."
   ]
  },
  {
   "cell_type": "code",
   "execution_count": 8,
   "metadata": {},
   "outputs": [
    {
     "name": "stdout",
     "output_type": "stream",
     "text": [
      "\n",
      "Training model ...\n",
      "\n",
      "Saving model ...\n",
      "\n",
      "Loading saved model to make example predictions...\n",
      "\n",
      "Predicting class probabilities for likely on-time payer:\n",
      "[[0.99666011 0.00333989]]\n",
      "\n",
      "Predicting class probabilities for a likely late payer:\n",
      "[[0.9219016 0.0780984]]\n",
      "\n",
      "Predicting class probabilities for the test data set:\n",
      "[[0.97564545 0.02435455]\n",
      " [0.99474814 0.00525186]\n",
      " [0.99062148 0.00937852]\n",
      " ...\n",
      " [0.96656566 0.03343434]\n",
      " [0.9843289  0.0156711 ]\n",
      " [0.96114738 0.03885262]]\n",
      "Accuracy:\n",
      "0.9861172000584539\n",
      "Classification Report: \n",
      "              precision    recall  f1-score   support\n",
      "\n",
      "           0       0.99      1.00      0.99      6748\n",
      "           1       0.00      0.00      0.00        95\n",
      "\n",
      "   micro avg       0.99      0.99      0.99      6843\n",
      "   macro avg       0.49      0.50      0.50      6843\n",
      "weighted avg       0.97      0.99      0.98      6843\n",
      "\n",
      "AUC: \n",
      "0.7452664337191527\n"
     ]
    },
    {
     "name": "stderr",
     "output_type": "stream",
     "text": [
      "/anaconda3/envs/loanModel/lib/python3.7/site-packages/sklearn/metrics/classification.py:1143: UndefinedMetricWarning: Precision and F-score are ill-defined and being set to 0.0 in labels with no predicted samples.\n",
      "  'precision', 'predicted', average, warn_for)\n"
     ]
    },
    {
     "name": "stdout",
     "output_type": "stream",
     "text": [
      "Train Accuracy:\n",
      "0.9779594482659272\n",
      "Train Classification Report: \n",
      "              precision    recall  f1-score   support\n",
      "\n",
      "           0       0.98      1.00      0.99    108608\n",
      "           1       1.00      0.00      0.01      2460\n",
      "\n",
      "   micro avg       0.98      0.98      0.98    111068\n",
      "   macro avg       0.99      0.50      0.50    111068\n",
      "weighted avg       0.98      0.98      0.97    111068\n",
      "\n",
      "Train AUC: \n",
      "0.7548989563720769\n"
     ]
    }
   ],
   "source": [
    "from sklearn.ensemble import GradientBoostingClassifier\n",
    "\n",
    "latePaymentsModelGradient = Pipeline(\n",
    "    steps=[(\"preprocess\", preprocess),\n",
    "           (\"classifier\", GradientBoostingClassifier(random_state=42))])\n",
    "\n",
    "fit_save_eval(latePaymentsModelGradient, \"latePaymentsModelGradient\")"
   ]
  },
  {
   "cell_type": "markdown",
   "metadata": {},
   "source": [
    "## Plot ROC curves for models trained\n"
   ]
  },
  {
   "cell_type": "code",
   "execution_count": 9,
   "metadata": {},
   "outputs": [
    {
     "data": {
      "image/png": "[encoded data removed]",
      "text/plain": [
       "<Figure size 432x288 with 1 Axes>"
      ]
     },
     "metadata": {
      "needs_background": "light"
     },
     "output_type": "display_data"
    }
   ],
   "source": [
    "def plot_roc(model, color, name):\n",
    "    fpr_train, tpr_train, _ = roc_curve(y_train, model.predict_proba(X_train)[:, 1])\n",
    "    fpr_test, tpr_test, _ = roc_curve(y_test, model.predict_proba(X_test)[:, 1])\n",
    "    \n",
    "    pyplot.plot(fpr_train,\n",
    "                tpr_train,\n",
    "                f'--',\n",
    "                color=color,\n",
    "                label=f'{name} Train',\n",
    "                linewidth=2.5)\n",
    "    pyplot.plot(fpr_test,\n",
    "                tpr_test,\n",
    "                f'-',\n",
    "                color=color,\n",
    "                label=f'{name} Test',\n",
    "                linewidth=2.5)\n",
    "    pyplot.legend()\n",
    "    pyplot.xlim(-0.01, 1)\n",
    "    pyplot.ylim(0, 1.01)\n",
    "    pyplot.xlabel('False positive rate')\n",
    "    pyplot.ylabel('True positive rate')\n",
    "pal = seaborn.palettes.get_color_cycle()\n",
    "plot_roc(latePaymentsModel, pal[0], 'Original Random Forest')\n",
    "plot_roc(latePaymentsModelGrid, pal[1], 'Optimized Random Forest')\n",
    "plot_roc(latePaymentsModelGradient, pal[2], 'GBM')\n"
   ]
  }
 ],
 "metadata": {
  "kernelspec": {
   "display_name": "Python 3",
   "language": "python",
   "name": "python3"
  },
  "language_info": {
   "codemirror_mode": {
    "name": "ipython",
    "version": 3
   },
   "file_extension": ".py",
   "mimetype": "text/x-python",
   "name": "python",
   "nbconvert_exporter": "python",
   "pygments_lexer": "ipython3",
   "version": "3.7.2"
  }
 },
 "nbformat": 4,
 "nbformat_minor": 2
}
